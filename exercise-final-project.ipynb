{
 "cells": [
  {
   "cell_type": "markdown",
   "id": "73a03c73",
   "metadata": {
    "papermill": {
     "duration": 0.012933,
     "end_time": "2021-08-16T07:47:50.399485",
     "exception": false,
     "start_time": "2021-08-16T07:47:50.386552",
     "status": "completed"
    },
    "tags": []
   },
   "source": [
    "**This notebook is an exercise in the [Data Visualization](https://www.kaggle.com/learn/data-visualization) course.  You can reference the tutorial at [this link](https://www.kaggle.com/alexisbcook/final-project).**\n",
    "\n",
    "---\n"
   ]
  },
  {
   "cell_type": "markdown",
   "id": "2f890b5a",
   "metadata": {
    "papermill": {
     "duration": 0.011313,
     "end_time": "2021-08-16T07:47:50.422768",
     "exception": false,
     "start_time": "2021-08-16T07:47:50.411455",
     "status": "completed"
    },
    "tags": []
   },
   "source": [
    "Now it's time for you to demonstrate your new skills with a project of your own!\n",
    "\n",
    "In this exercise, you will work with a dataset of your choosing.  Once you've selected a dataset, you'll design and create your own plot to tell interesting stories behind the data!\n",
    "\n",
    "## Setup\n",
    "\n",
    "Run the next cell to import and configure the Python libraries that you need to complete the exercise."
   ]
  },
  {
   "cell_type": "code",
   "execution_count": 1,
   "id": "1f2ee407",
   "metadata": {
    "execution": {
     "iopub.execute_input": "2021-08-16T07:47:50.458165Z",
     "iopub.status.busy": "2021-08-16T07:47:50.457547Z",
     "iopub.status.idle": "2021-08-16T07:47:51.489566Z",
     "shell.execute_reply": "2021-08-16T07:47:51.488704Z",
     "shell.execute_reply.started": "2021-08-16T07:37:54.306988Z"
    },
    "papermill": {
     "duration": 1.055476,
     "end_time": "2021-08-16T07:47:51.489741",
     "exception": false,
     "start_time": "2021-08-16T07:47:50.434265",
     "status": "completed"
    },
    "tags": []
   },
   "outputs": [
    {
     "name": "stdout",
     "output_type": "stream",
     "text": [
      "Setup Complete\n"
     ]
    }
   ],
   "source": [
    "import pandas as pd\n",
    "pd.plotting.register_matplotlib_converters()\n",
    "import matplotlib.pyplot as plt\n",
    "%matplotlib inline\n",
    "import seaborn as sns\n",
    "print(\"Setup Complete\")"
   ]
  },
  {
   "cell_type": "markdown",
   "id": "3d382d50",
   "metadata": {
    "papermill": {
     "duration": 0.011598,
     "end_time": "2021-08-16T07:47:51.513688",
     "exception": false,
     "start_time": "2021-08-16T07:47:51.502090",
     "status": "completed"
    },
    "tags": []
   },
   "source": [
    "The questions below will give you feedback on your work. Run the following cell to set up the feedback system."
   ]
  },
  {
   "cell_type": "code",
   "execution_count": 2,
   "id": "323f009b",
   "metadata": {
    "execution": {
     "iopub.execute_input": "2021-08-16T07:47:51.542826Z",
     "iopub.status.busy": "2021-08-16T07:47:51.542146Z",
     "iopub.status.idle": "2021-08-16T07:47:51.590097Z",
     "shell.execute_reply": "2021-08-16T07:47:51.591138Z",
     "shell.execute_reply.started": "2021-08-16T07:38:02.499059Z"
    },
    "papermill": {
     "duration": 0.065771,
     "end_time": "2021-08-16T07:47:51.591476",
     "exception": false,
     "start_time": "2021-08-16T07:47:51.525705",
     "status": "completed"
    },
    "tags": []
   },
   "outputs": [
    {
     "name": "stdout",
     "output_type": "stream",
     "text": [
      "Setup Complete\n"
     ]
    }
   ],
   "source": [
    "# Set up code checking\n",
    "from learntools.core import binder\n",
    "binder.bind(globals())\n",
    "from learntools.data_viz_to_coder.ex7 import *\n",
    "print(\"Setup Complete\")"
   ]
  },
  {
   "cell_type": "markdown",
   "id": "411d84b6",
   "metadata": {
    "papermill": {
     "duration": 0.011831,
     "end_time": "2021-08-16T07:47:51.616851",
     "exception": false,
     "start_time": "2021-08-16T07:47:51.605020",
     "status": "completed"
    },
    "tags": []
   },
   "source": [
    "## Step 1: Attach a dataset to the notebook\n",
    "\n",
    "Begin by selecting a CSV dataset from [Kaggle Datasets](https://www.kaggle.com/datasets).  If you're unsure how to do this or would like to work with your own data, please revisit the instructions in the previous tutorial.\n",
    "\n",
    "Once you have selected a dataset, click on the **[+ Add Data]** option in the top right corner.  This will generate a pop-up window that you can use to search for your chosen dataset.  \n",
    "\n",
    "![ex6_search_dataset](https://i.imgur.com/cIIWPUS.png)\n",
    "\n",
    "Once you have found the dataset, click on the **[Add]** button to attach it to the notebook.  You can check that it was successful by looking at the **Data** dropdown menu to the right of the notebook -- look for an **input** folder containing a subfolder that matches the name of the dataset.\n",
    "\n",
    "<center>\n",
    "<img src=\"https://i.imgur.com/nMYc1Nu.png\" width=30%><br/>\n",
    "</center>\n",
    "\n",
    "You can click on the carat to the left of the name of the dataset to double-check that it contains a CSV file.  For instance, the image below shows that the example dataset contains two CSV files: (1) **dc-wikia-data.csv**, and (2) **marvel-wikia-data.csv**.\n",
    "\n",
    "<center>\n",
    "<img src=\"https://i.imgur.com/B4sJkVA.png\" width=30%><br/>\n",
    "</center>\n",
    "\n",
    "Once you've uploaded a dataset with a CSV file, run the code cell below **without changes** to receive credit for your work!"
   ]
  },
  {
   "cell_type": "code",
   "execution_count": 3,
   "id": "3860c60e",
   "metadata": {
    "execution": {
     "iopub.execute_input": "2021-08-16T07:47:51.647310Z",
     "iopub.status.busy": "2021-08-16T07:47:51.646674Z",
     "iopub.status.idle": "2021-08-16T07:47:51.663031Z",
     "shell.execute_reply": "2021-08-16T07:47:51.662529Z",
     "shell.execute_reply.started": "2021-08-16T07:38:11.550727Z"
    },
    "papermill": {
     "duration": 0.034063,
     "end_time": "2021-08-16T07:47:51.663175",
     "exception": false,
     "start_time": "2021-08-16T07:47:51.629112",
     "status": "completed"
    },
    "tags": []
   },
   "outputs": [
    {
     "data": {
      "application/javascript": [
       "parent.postMessage({\"jupyterEvent\": \"custom.exercise_interaction\", \"data\": {\"outcomeType\": 1, \"valueTowardsCompletion\": 0.25, \"interactionType\": 1, \"questionType\": 2, \"questionId\": \"1_AttachData\", \"learnToolsVersion\": \"0.3.4\", \"failureMessage\": \"\", \"exceptionClass\": \"\", \"trace\": \"\"}}, \"*\")"
      ],
      "text/plain": [
       "<IPython.core.display.Javascript object>"
      ]
     },
     "metadata": {},
     "output_type": "display_data"
    },
    {
     "data": {
      "text/markdown": [
       "<span style=\"color:#33cc33\">Correct:</span> \n",
       "\n"
      ],
      "text/plain": [
       "Correct: \n"
      ]
     },
     "metadata": {},
     "output_type": "display_data"
    }
   ],
   "source": [
    "# Check for a dataset with a CSV file\n",
    "step_1.check()"
   ]
  },
  {
   "cell_type": "markdown",
   "id": "8314aeaf",
   "metadata": {
    "papermill": {
     "duration": 0.012833,
     "end_time": "2021-08-16T07:47:51.689202",
     "exception": false,
     "start_time": "2021-08-16T07:47:51.676369",
     "status": "completed"
    },
    "tags": []
   },
   "source": [
    "## Step 2: Specify the filepath\n",
    "\n",
    "Now that the dataset is attached to the notebook, you can find its filepath.  To do this, begin by clicking on the CSV file you'd like to use.  This will open the CSV file in a tab below the notebook.  You can find the filepath towards the top of this new tab.  \n",
    "\n",
    "![ex6_filepath](https://i.imgur.com/fgXQV47.png)\n",
    "\n",
    "After you find the filepath corresponding to your dataset, fill it in as the value for `my_filepath` in the code cell below, and run the code cell to check that you've provided a valid filepath.  For instance, in the case of this example dataset, we would set\n",
    "```\n",
    "my_filepath = \"../input/fivethirtyeight-comic-characters-dataset/dc-wikia-data.csv\"\n",
    "```  \n",
    "Note that **you must enclose the filepath in quotation marks**; otherwise, the code will return an error.\n",
    "\n",
    "Once you've entered the filepath, you can close the tab below the notebook by clicking on the **[X]** at the top of the tab."
   ]
  },
  {
   "cell_type": "code",
   "execution_count": 4,
   "id": "6485e35e",
   "metadata": {
    "execution": {
     "iopub.execute_input": "2021-08-16T07:47:51.720605Z",
     "iopub.status.busy": "2021-08-16T07:47:51.719915Z",
     "iopub.status.idle": "2021-08-16T07:47:51.724455Z",
     "shell.execute_reply": "2021-08-16T07:47:51.725052Z",
     "shell.execute_reply.started": "2021-08-16T07:43:28.548329Z"
    },
    "papermill": {
     "duration": 0.022835,
     "end_time": "2021-08-16T07:47:51.725221",
     "exception": false,
     "start_time": "2021-08-16T07:47:51.702386",
     "status": "completed"
    },
    "tags": []
   },
   "outputs": [
    {
     "data": {
      "application/javascript": [
       "parent.postMessage({\"jupyterEvent\": \"custom.exercise_interaction\", \"data\": {\"outcomeType\": 1, \"valueTowardsCompletion\": 0.25, \"interactionType\": 1, \"questionType\": 2, \"questionId\": \"2_Filepath\", \"learnToolsVersion\": \"0.3.4\", \"failureMessage\": \"\", \"exceptionClass\": \"\", \"trace\": \"\"}}, \"*\")"
      ],
      "text/plain": [
       "<IPython.core.display.Javascript object>"
      ]
     },
     "metadata": {},
     "output_type": "display_data"
    },
    {
     "data": {
      "text/markdown": [
       "<span style=\"color:#33cc33\">Correct:</span> \n",
       "\n"
      ],
      "text/plain": [
       "Correct: \n"
      ]
     },
     "metadata": {},
     "output_type": "display_data"
    }
   ],
   "source": [
    "# Fill in the line below: Specify the path of the CSV file to read\n",
    "my_filepath = \"../input/covid19-data-eda/Latest Covid-19 India Status.csv\"\n",
    "\n",
    "# Check for a valid filepath to a CSV file in a dataset\n",
    "step_2.check()"
   ]
  },
  {
   "cell_type": "markdown",
   "id": "27cea3d7",
   "metadata": {
    "papermill": {
     "duration": 0.01502,
     "end_time": "2021-08-16T07:47:51.754575",
     "exception": false,
     "start_time": "2021-08-16T07:47:51.739555",
     "status": "completed"
    },
    "tags": []
   },
   "source": [
    "## Step 3: Load the data\n",
    "\n",
    "Use the next code cell to load your data file into `my_data`.  Use the filepath that you specified in the previous step."
   ]
  },
  {
   "cell_type": "code",
   "execution_count": 5,
   "id": "8c77cf83",
   "metadata": {
    "execution": {
     "iopub.execute_input": "2021-08-16T07:47:51.786480Z",
     "iopub.status.busy": "2021-08-16T07:47:51.785852Z",
     "iopub.status.idle": "2021-08-16T07:47:51.803696Z",
     "shell.execute_reply": "2021-08-16T07:47:51.804171Z",
     "shell.execute_reply.started": "2021-08-16T07:43:41.226242Z"
    },
    "papermill": {
     "duration": 0.035316,
     "end_time": "2021-08-16T07:47:51.804339",
     "exception": false,
     "start_time": "2021-08-16T07:47:51.769023",
     "status": "completed"
    },
    "tags": []
   },
   "outputs": [
    {
     "data": {
      "application/javascript": [
       "parent.postMessage({\"jupyterEvent\": \"custom.exercise_interaction\", \"data\": {\"outcomeType\": 1, \"valueTowardsCompletion\": 0.25, \"interactionType\": 1, \"questionType\": 2, \"questionId\": \"3_LoadData\", \"learnToolsVersion\": \"0.3.4\", \"failureMessage\": \"\", \"exceptionClass\": \"\", \"trace\": \"\"}}, \"*\")"
      ],
      "text/plain": [
       "<IPython.core.display.Javascript object>"
      ]
     },
     "metadata": {},
     "output_type": "display_data"
    },
    {
     "data": {
      "text/markdown": [
       "<span style=\"color:#33cc33\">Correct:</span> \n",
       "\n"
      ],
      "text/plain": [
       "Correct: \n"
      ]
     },
     "metadata": {},
     "output_type": "display_data"
    }
   ],
   "source": [
    "# Fill in the line below: Read the file into a variable my_data\n",
    "my_data = pd.read_csv(my_filepath)\n",
    "\n",
    "# Check that a dataset has been uploaded into my_data\n",
    "step_3.check()"
   ]
  },
  {
   "cell_type": "markdown",
   "id": "19f6a8c2",
   "metadata": {
    "papermill": {
     "duration": 0.014901,
     "end_time": "2021-08-16T07:47:51.834557",
     "exception": false,
     "start_time": "2021-08-16T07:47:51.819656",
     "status": "completed"
    },
    "tags": []
   },
   "source": [
    "**_After the code cell above is marked correct_**, run the code cell below without changes to view the first five rows of the data."
   ]
  },
  {
   "cell_type": "code",
   "execution_count": 6,
   "id": "e9f3692a",
   "metadata": {
    "execution": {
     "iopub.execute_input": "2021-08-16T07:47:51.868364Z",
     "iopub.status.busy": "2021-08-16T07:47:51.867758Z",
     "iopub.status.idle": "2021-08-16T07:47:51.894674Z",
     "shell.execute_reply": "2021-08-16T07:47:51.895121Z",
     "shell.execute_reply.started": "2021-08-16T07:43:50.339860Z"
    },
    "papermill": {
     "duration": 0.045434,
     "end_time": "2021-08-16T07:47:51.895299",
     "exception": false,
     "start_time": "2021-08-16T07:47:51.849865",
     "status": "completed"
    },
    "tags": []
   },
   "outputs": [
    {
     "data": {
      "text/html": [
       "<div>\n",
       "<style scoped>\n",
       "    .dataframe tbody tr th:only-of-type {\n",
       "        vertical-align: middle;\n",
       "    }\n",
       "\n",
       "    .dataframe tbody tr th {\n",
       "        vertical-align: top;\n",
       "    }\n",
       "\n",
       "    .dataframe thead th {\n",
       "        text-align: right;\n",
       "    }\n",
       "</style>\n",
       "<table border=\"1\" class=\"dataframe\">\n",
       "  <thead>\n",
       "    <tr style=\"text-align: right;\">\n",
       "      <th></th>\n",
       "      <th>State/UTs</th>\n",
       "      <th>Total Cases</th>\n",
       "      <th>Active</th>\n",
       "      <th>Discharged</th>\n",
       "      <th>Deaths</th>\n",
       "      <th>Active Ratio (%)</th>\n",
       "      <th>Discharge Ratio (%)</th>\n",
       "      <th>Death Ratio (%)</th>\n",
       "    </tr>\n",
       "  </thead>\n",
       "  <tbody>\n",
       "    <tr>\n",
       "      <th>0</th>\n",
       "      <td>Maharashtra</td>\n",
       "      <td>6122893</td>\n",
       "      <td>117869</td>\n",
       "      <td>5881167</td>\n",
       "      <td>123857</td>\n",
       "      <td>1.93</td>\n",
       "      <td>96.05</td>\n",
       "      <td>2.02</td>\n",
       "    </tr>\n",
       "    <tr>\n",
       "      <th>1</th>\n",
       "      <td>Kerala</td>\n",
       "      <td>3011694</td>\n",
       "      <td>108400</td>\n",
       "      <td>2889186</td>\n",
       "      <td>14108</td>\n",
       "      <td>3.60</td>\n",
       "      <td>95.93</td>\n",
       "      <td>0.47</td>\n",
       "    </tr>\n",
       "    <tr>\n",
       "      <th>2</th>\n",
       "      <td>Karnataka</td>\n",
       "      <td>2862338</td>\n",
       "      <td>39626</td>\n",
       "      <td>2787111</td>\n",
       "      <td>35601</td>\n",
       "      <td>1.38</td>\n",
       "      <td>97.37</td>\n",
       "      <td>1.24</td>\n",
       "    </tr>\n",
       "    <tr>\n",
       "      <th>3</th>\n",
       "      <td>Tamil Nadu</td>\n",
       "      <td>2506848</td>\n",
       "      <td>34076</td>\n",
       "      <td>2439576</td>\n",
       "      <td>33196</td>\n",
       "      <td>1.36</td>\n",
       "      <td>97.32</td>\n",
       "      <td>1.32</td>\n",
       "    </tr>\n",
       "    <tr>\n",
       "      <th>4</th>\n",
       "      <td>Andhra Pradesh</td>\n",
       "      <td>1911231</td>\n",
       "      <td>32356</td>\n",
       "      <td>1865956</td>\n",
       "      <td>12919</td>\n",
       "      <td>1.69</td>\n",
       "      <td>97.63</td>\n",
       "      <td>0.68</td>\n",
       "    </tr>\n",
       "  </tbody>\n",
       "</table>\n",
       "</div>"
      ],
      "text/plain": [
       "        State/UTs  Total Cases  Active  Discharged  Deaths  Active Ratio (%)  \\\n",
       "0     Maharashtra      6122893  117869     5881167  123857              1.93   \n",
       "1          Kerala      3011694  108400     2889186   14108              3.60   \n",
       "2       Karnataka      2862338   39626     2787111   35601              1.38   \n",
       "3      Tamil Nadu      2506848   34076     2439576   33196              1.36   \n",
       "4  Andhra Pradesh      1911231   32356     1865956   12919              1.69   \n",
       "\n",
       "   Discharge Ratio (%)  Death Ratio (%)  \n",
       "0                96.05             2.02  \n",
       "1                95.93             0.47  \n",
       "2                97.37             1.24  \n",
       "3                97.32             1.32  \n",
       "4                97.63             0.68  "
      ]
     },
     "execution_count": 6,
     "metadata": {},
     "output_type": "execute_result"
    }
   ],
   "source": [
    "# Print the first five rows of the data\n",
    "my_data.head()"
   ]
  },
  {
   "cell_type": "markdown",
   "id": "83a75361",
   "metadata": {
    "papermill": {
     "duration": 0.015362,
     "end_time": "2021-08-16T07:47:51.926294",
     "exception": false,
     "start_time": "2021-08-16T07:47:51.910932",
     "status": "completed"
    },
    "tags": []
   },
   "source": [
    "## Step 4: Visualize the data\n",
    "\n",
    "Use the next code cell to create a figure that tells a story behind your dataset.  You can use any chart type (_line chart, bar chart, heatmap, etc_) of your choosing!"
   ]
  },
  {
   "cell_type": "code",
   "execution_count": 7,
   "id": "99eb2d96",
   "metadata": {
    "execution": {
     "iopub.execute_input": "2021-08-16T07:47:51.960913Z",
     "iopub.status.busy": "2021-08-16T07:47:51.960264Z",
     "iopub.status.idle": "2021-08-16T07:47:52.415571Z",
     "shell.execute_reply": "2021-08-16T07:47:52.416067Z",
     "shell.execute_reply.started": "2021-08-16T07:47:08.269880Z"
    },
    "papermill": {
     "duration": 0.474263,
     "end_time": "2021-08-16T07:47:52.416243",
     "exception": false,
     "start_time": "2021-08-16T07:47:51.941980",
     "status": "completed"
    },
    "tags": []
   },
   "outputs": [
    {
     "data": {
      "application/javascript": [
       "parent.postMessage({\"jupyterEvent\": \"custom.exercise_interaction\", \"data\": {\"outcomeType\": 1, \"valueTowardsCompletion\": 0.25, \"interactionType\": 1, \"questionType\": 2, \"questionId\": \"4_CreatePlot\", \"learnToolsVersion\": \"0.3.4\", \"failureMessage\": \"\", \"exceptionClass\": \"\", \"trace\": \"\"}}, \"*\")"
      ],
      "text/plain": [
       "<IPython.core.display.Javascript object>"
      ]
     },
     "metadata": {},
     "output_type": "display_data"
    },
    {
     "data": {
      "text/markdown": [
       "<span style=\"color:#33cc33\">Correct:</span> \n",
       "\n"
      ],
      "text/plain": [
       "Correct: \n"
      ]
     },
     "metadata": {},
     "output_type": "display_data"
    },
    {
     "data": {
      "image/png": "[encoded data removed]",
      "text/plain": [
       "<Figure size 1152x288 with 1 Axes>"
      ]
     },
     "metadata": {
      "needs_background": "light"
     },
     "output_type": "display_data"
    }
   ],
   "source": [
    "# Create a plot\n",
    "# Your code here\n",
    "plt.figure(figsize=(16,4))\n",
    "sns.barplot(data=my_data)\n",
    "plt.title(\"State vise COVID19 report\")\n",
    "\n",
    "# Check that a figure appears below\n",
    "step_4.check()"
   ]
  },
  {
   "cell_type": "markdown",
   "id": "276c2508",
   "metadata": {
    "papermill": {
     "duration": 0.017419,
     "end_time": "2021-08-16T07:47:52.450989",
     "exception": false,
     "start_time": "2021-08-16T07:47:52.433570",
     "status": "completed"
    },
    "tags": []
   },
   "source": [
    "## Keep going\n",
    "\n",
    "Learn how to use your skills after completing the micro-course to create data visualizations in a **[final tutorial](https://www.kaggle.com/alexisbcook/creating-your-own-notebooks)**."
   ]
  },
  {
   "cell_type": "markdown",
   "id": "43caaa43",
   "metadata": {
    "papermill": {
     "duration": 0.017286,
     "end_time": "2021-08-16T07:47:52.485870",
     "exception": false,
     "start_time": "2021-08-16T07:47:52.468584",
     "status": "completed"
    },
    "tags": []
   },
   "source": [
    "---\n",
    "\n",
    "\n",
    "\n",
    "\n",
    "*Have questions or comments? Visit the [Learn Discussion forum](https://www.kaggle.com/learn-forum/161291) to chat with other Learners.*"
   ]
  }
 ],
 "metadata": {
  "kernelspec": {
   "display_name": "Python 3",
   "language": "python",
   "name": "python3"
  },
  "language_info": {
   "codemirror_mode": {
    "name": "ipython",
    "version": 3
   },
   "file_extension": ".py",
   "mimetype": "text/x-python",
   "name": "python",
   "nbconvert_exporter": "python",
   "pygments_lexer": "ipython3",
   "version": "3.7.10"
  },
  "papermill": {
   "default_parameters": {},
   "duration": 11.773882,
   "end_time": "2021-08-16T07:47:54.125209",
   "environment_variables": {},
   "exception": null,
   "input_path": "__notebook__.ipynb",
   "output_path": "__notebook__.ipynb",
   "parameters": {},
   "start_time": "2021-08-16T07:47:42.351327",
   "version": "2.3.3"
  }
 },
 "nbformat": 4,
 "nbformat_minor": 5
}
