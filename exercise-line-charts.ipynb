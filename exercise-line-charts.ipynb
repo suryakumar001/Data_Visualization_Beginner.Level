{
 "cells": [
  {
   "cell_type": "markdown",
   "id": "cc759104",
   "metadata": {
    "papermill": {
     "duration": 0.018347,
     "end_time": "2021-08-13T17:41:07.255073",
     "exception": false,
     "start_time": "2021-08-13T17:41:07.236726",
     "status": "completed"
    },
    "tags": []
   },
   "source": [
    "**This notebook is an exercise in the [Data Visualization](https://www.kaggle.com/learn/data-visualization) course.  You can reference the tutorial at [this link](https://www.kaggle.com/alexisbcook/line-charts).**\n",
    "\n",
    "---\n"
   ]
  },
  {
   "cell_type": "markdown",
   "id": "4f76d6bb",
   "metadata": {
    "papermill": {
     "duration": 0.016137,
     "end_time": "2021-08-13T17:41:07.288620",
     "exception": false,
     "start_time": "2021-08-13T17:41:07.272483",
     "status": "completed"
    },
    "tags": []
   },
   "source": [
    "In this exercise, you will use your new knowledge to propose a solution to a real-world scenario. To succeed, you will need to import data into Python, answer questions using the data, and generate **line charts** to understand patterns in the data.\n",
    "\n",
    "## Scenario\n",
    "\n",
    "You have recently been hired to manage the museums in the City of Los Angeles. Your first project focuses on the four museums pictured in the images below.\n",
    "\n",
    "![ex1_museums](https://i.imgur.com/pFYL8J1.png)\n",
    "\n",
    "You will leverage data from the Los Angeles [Data Portal](https://data.lacity.org/) that tracks monthly visitors to each museum.  \n",
    "\n",
    "![ex1_xlsx](https://i.imgur.com/mGWYlym.png)\n",
    "\n",
    "## Setup\n",
    "\n",
    "Run the next cell to import and configure the Python libraries that you need to complete the exercise."
   ]
  },
  {
   "cell_type": "code",
   "execution_count": 1,
   "id": "0f164751",
   "metadata": {
    "execution": {
     "iopub.execute_input": "2021-08-13T17:41:07.335873Z",
     "iopub.status.busy": "2021-08-13T17:41:07.335127Z",
     "iopub.status.idle": "2021-08-13T17:41:08.459501Z",
     "shell.execute_reply": "2021-08-13T17:41:08.458614Z",
     "shell.execute_reply.started": "2021-08-13T17:22:19.580013Z"
    },
    "papermill": {
     "duration": 1.154389,
     "end_time": "2021-08-13T17:41:08.459688",
     "exception": false,
     "start_time": "2021-08-13T17:41:07.305299",
     "status": "completed"
    },
    "tags": []
   },
   "outputs": [
    {
     "name": "stdout",
     "output_type": "stream",
     "text": [
      "Setup Complete\n"
     ]
    }
   ],
   "source": [
    "import pandas as pd\n",
    "pd.plotting.register_matplotlib_converters()\n",
    "import matplotlib.pyplot as plt\n",
    "%matplotlib inline\n",
    "import seaborn as sns\n",
    "print(\"Setup Complete\")"
   ]
  },
  {
   "cell_type": "markdown",
   "id": "b89e0af6",
   "metadata": {
    "papermill": {
     "duration": 0.016627,
     "end_time": "2021-08-13T17:41:08.493697",
     "exception": false,
     "start_time": "2021-08-13T17:41:08.477070",
     "status": "completed"
    },
    "tags": []
   },
   "source": [
    "The questions below will give you feedback on your work. Run the following cell to set up the feedback system."
   ]
  },
  {
   "cell_type": "code",
   "execution_count": 2,
   "id": "765cd2dc",
   "metadata": {
    "execution": {
     "iopub.execute_input": "2021-08-13T17:41:08.534852Z",
     "iopub.status.busy": "2021-08-13T17:41:08.534131Z",
     "iopub.status.idle": "2021-08-13T17:41:08.612376Z",
     "shell.execute_reply": "2021-08-13T17:41:08.612902Z",
     "shell.execute_reply.started": "2021-08-13T17:22:32.432521Z"
    },
    "papermill": {
     "duration": 0.101509,
     "end_time": "2021-08-13T17:41:08.613078",
     "exception": false,
     "start_time": "2021-08-13T17:41:08.511569",
     "status": "completed"
    },
    "tags": []
   },
   "outputs": [
    {
     "name": "stdout",
     "output_type": "stream",
     "text": [
      "Setup Complete\n"
     ]
    }
   ],
   "source": [
    "# Set up code checking\n",
    "import os\n",
    "if not os.path.exists(\"../input/museum_visitors.csv\"):\n",
    "    os.symlink(\"../input/data-for-datavis/museum_visitors.csv\", \"../input/museum_visitors.csv\") \n",
    "from learntools.core import binder\n",
    "binder.bind(globals())\n",
    "from learntools.data_viz_to_coder.ex2 import *\n",
    "print(\"Setup Complete\")"
   ]
  },
  {
   "cell_type": "markdown",
   "id": "4c7ff2f6",
   "metadata": {
    "papermill": {
     "duration": 0.018281,
     "end_time": "2021-08-13T17:41:08.649871",
     "exception": false,
     "start_time": "2021-08-13T17:41:08.631590",
     "status": "completed"
    },
    "tags": []
   },
   "source": [
    "## Step 1: Load the data\n",
    "\n",
    "Your first assignment is to read the LA Museum Visitors data file into `museum_data`.  Note that:\n",
    "- The filepath to the dataset is stored as `museum_filepath`.  Please **do not** change the provided value of the filepath.\n",
    "- The name of the column to use as row labels is `\"Date\"`.  (This can be seen in cell A1 when the file is opened in Excel.)\n",
    "\n",
    "To help with this, you may find it useful to revisit some relevant code from the tutorial, which we have pasted below:\n",
    "\n",
    "```python\n",
    "# Path of the file to read\n",
    "spotify_filepath = \"../input/spotify.csv\"\n",
    "\n",
    "# Read the file into a variable spotify_data\n",
    "spotify_data = pd.read_csv(spotify_filepath, index_col=\"Date\", parse_dates=True)\n",
    "```\n",
    "\n",
    "The code you need to write now looks very similar!"
   ]
  },
  {
   "cell_type": "code",
   "execution_count": 3,
   "id": "90d1d9a5",
   "metadata": {
    "execution": {
     "iopub.execute_input": "2021-08-13T17:41:08.691994Z",
     "iopub.status.busy": "2021-08-13T17:41:08.691077Z",
     "iopub.status.idle": "2021-08-13T17:41:08.707276Z",
     "shell.execute_reply": "2021-08-13T17:41:08.706651Z",
     "shell.execute_reply.started": "2021-08-13T17:26:37.583557Z"
    },
    "papermill": {
     "duration": 0.039171,
     "end_time": "2021-08-13T17:41:08.707439",
     "exception": false,
     "start_time": "2021-08-13T17:41:08.668268",
     "status": "completed"
    },
    "tags": []
   },
   "outputs": [
    {
     "data": {
      "application/javascript": [
       "parent.postMessage({\"jupyterEvent\": \"custom.exercise_interaction\", \"data\": {\"outcomeType\": 1, \"valueTowardsCompletion\": 0.3333333333333333, \"interactionType\": 1, \"questionType\": 1, \"questionId\": \"1_LoadMuseumData\", \"learnToolsVersion\": \"0.3.4\", \"failureMessage\": \"\", \"exceptionClass\": \"\", \"trace\": \"\"}}, \"*\")"
      ],
      "text/plain": [
       "<IPython.core.display.Javascript object>"
      ]
     },
     "metadata": {},
     "output_type": "display_data"
    },
    {
     "data": {
      "text/markdown": [
       "<span style=\"color:#33cc33\">Correct</span>"
      ],
      "text/plain": [
       "Correct"
      ]
     },
     "metadata": {},
     "output_type": "display_data"
    }
   ],
   "source": [
    "# Path of the file to read\n",
    "museum_filepath = \"../input/museum_visitors.csv\"\n",
    "\n",
    "# Fill in the line below to read the file into a variable museum_data\n",
    "museum_data = pd.read_csv(museum_filepath, index_col = \"Date\", parse_dates = True)\n",
    "\n",
    "# Run the line below with no changes to check that you've loaded the data correctly\n",
    "step_1.check()"
   ]
  },
  {
   "cell_type": "code",
   "execution_count": 4,
   "id": "6b77e994",
   "metadata": {
    "execution": {
     "iopub.execute_input": "2021-08-13T17:41:08.749432Z",
     "iopub.status.busy": "2021-08-13T17:41:08.748720Z",
     "iopub.status.idle": "2021-08-13T17:41:08.751295Z",
     "shell.execute_reply": "2021-08-13T17:41:08.750601Z",
     "shell.execute_reply.started": "2021-08-13T17:26:49.147924Z"
    },
    "papermill": {
     "duration": 0.025732,
     "end_time": "2021-08-13T17:41:08.751450",
     "exception": false,
     "start_time": "2021-08-13T17:41:08.725718",
     "status": "completed"
    },
    "tags": []
   },
   "outputs": [],
   "source": [
    "# Uncomment the line below to receive a hint\n",
    "#step_1.hint()\n",
    "# Uncomment the line below to see the solution\n",
    "#step_1.solution()"
   ]
  },
  {
   "cell_type": "markdown",
   "id": "062e4ad7",
   "metadata": {
    "papermill": {
     "duration": 0.017867,
     "end_time": "2021-08-13T17:41:08.787728",
     "exception": false,
     "start_time": "2021-08-13T17:41:08.769861",
     "status": "completed"
    },
    "tags": []
   },
   "source": [
    "## Step 2: Review the data\n",
    "\n",
    "Use a Python command to print the last 5 rows of the data."
   ]
  },
  {
   "cell_type": "code",
   "execution_count": 5,
   "id": "504fc40e",
   "metadata": {
    "execution": {
     "iopub.execute_input": "2021-08-13T17:41:08.828062Z",
     "iopub.status.busy": "2021-08-13T17:41:08.827391Z",
     "iopub.status.idle": "2021-08-13T17:41:08.845935Z",
     "shell.execute_reply": "2021-08-13T17:41:08.845431Z",
     "shell.execute_reply.started": "2021-08-13T17:27:18.348717Z"
    },
    "papermill": {
     "duration": 0.039501,
     "end_time": "2021-08-13T17:41:08.846076",
     "exception": false,
     "start_time": "2021-08-13T17:41:08.806575",
     "status": "completed"
    },
    "tags": []
   },
   "outputs": [
    {
     "data": {
      "text/html": [
       "<div>\n",
       "<style scoped>\n",
       "    .dataframe tbody tr th:only-of-type {\n",
       "        vertical-align: middle;\n",
       "    }\n",
       "\n",
       "    .dataframe tbody tr th {\n",
       "        vertical-align: top;\n",
       "    }\n",
       "\n",
       "    .dataframe thead th {\n",
       "        text-align: right;\n",
       "    }\n",
       "</style>\n",
       "<table border=\"1\" class=\"dataframe\">\n",
       "  <thead>\n",
       "    <tr style=\"text-align: right;\">\n",
       "      <th></th>\n",
       "      <th>Avila Adobe</th>\n",
       "      <th>Firehouse Museum</th>\n",
       "      <th>Chinese American Museum</th>\n",
       "      <th>America Tropical Interpretive Center</th>\n",
       "    </tr>\n",
       "    <tr>\n",
       "      <th>Date</th>\n",
       "      <th></th>\n",
       "      <th></th>\n",
       "      <th></th>\n",
       "      <th></th>\n",
       "    </tr>\n",
       "  </thead>\n",
       "  <tbody>\n",
       "    <tr>\n",
       "      <th>2018-07-01</th>\n",
       "      <td>23136</td>\n",
       "      <td>4191</td>\n",
       "      <td>2620</td>\n",
       "      <td>4718</td>\n",
       "    </tr>\n",
       "    <tr>\n",
       "      <th>2018-08-01</th>\n",
       "      <td>20815</td>\n",
       "      <td>4866</td>\n",
       "      <td>2409</td>\n",
       "      <td>3891</td>\n",
       "    </tr>\n",
       "    <tr>\n",
       "      <th>2018-09-01</th>\n",
       "      <td>21020</td>\n",
       "      <td>4956</td>\n",
       "      <td>2146</td>\n",
       "      <td>3180</td>\n",
       "    </tr>\n",
       "    <tr>\n",
       "      <th>2018-10-01</th>\n",
       "      <td>19280</td>\n",
       "      <td>4622</td>\n",
       "      <td>2364</td>\n",
       "      <td>3775</td>\n",
       "    </tr>\n",
       "    <tr>\n",
       "      <th>2018-11-01</th>\n",
       "      <td>17163</td>\n",
       "      <td>4082</td>\n",
       "      <td>2385</td>\n",
       "      <td>4562</td>\n",
       "    </tr>\n",
       "  </tbody>\n",
       "</table>\n",
       "</div>"
      ],
      "text/plain": [
       "            Avila Adobe  Firehouse Museum  Chinese American Museum  \\\n",
       "Date                                                                 \n",
       "2018-07-01        23136              4191                     2620   \n",
       "2018-08-01        20815              4866                     2409   \n",
       "2018-09-01        21020              4956                     2146   \n",
       "2018-10-01        19280              4622                     2364   \n",
       "2018-11-01        17163              4082                     2385   \n",
       "\n",
       "            America Tropical Interpretive Center  \n",
       "Date                                              \n",
       "2018-07-01                                  4718  \n",
       "2018-08-01                                  3891  \n",
       "2018-09-01                                  3180  \n",
       "2018-10-01                                  3775  \n",
       "2018-11-01                                  4562  "
      ]
     },
     "execution_count": 5,
     "metadata": {},
     "output_type": "execute_result"
    }
   ],
   "source": [
    "# Print the last five rows of the data \n",
    "# Your code here\n",
    "museum_data.tail()"
   ]
  },
  {
   "cell_type": "markdown",
   "id": "459e3448",
   "metadata": {
    "papermill": {
     "duration": 0.018519,
     "end_time": "2021-08-13T17:41:08.884140",
     "exception": false,
     "start_time": "2021-08-13T17:41:08.865621",
     "status": "completed"
    },
    "tags": []
   },
   "source": [
    "The last row (for `2018-11-01`) tracks the number of visitors to each museum in November 2018, the next-to-last row (for `2018-10-01`) tracks the number of visitors to each museum in October 2018, _and so on_.\n",
    "\n",
    "Use the last 5 rows of the data to answer the questions below."
   ]
  },
  {
   "cell_type": "code",
   "execution_count": 6,
   "id": "f682e0ca",
   "metadata": {
    "execution": {
     "iopub.execute_input": "2021-08-13T17:41:08.930488Z",
     "iopub.status.busy": "2021-08-13T17:41:08.929826Z",
     "iopub.status.idle": "2021-08-13T17:41:08.935459Z",
     "shell.execute_reply": "2021-08-13T17:41:08.934918Z",
     "shell.execute_reply.started": "2021-08-13T17:30:16.870994Z"
    },
    "papermill": {
     "duration": 0.030679,
     "end_time": "2021-08-13T17:41:08.935598",
     "exception": false,
     "start_time": "2021-08-13T17:41:08.904919",
     "status": "completed"
    },
    "tags": []
   },
   "outputs": [
    {
     "data": {
      "application/javascript": [
       "parent.postMessage({\"jupyterEvent\": \"custom.exercise_interaction\", \"data\": {\"outcomeType\": 1, \"valueTowardsCompletion\": 0.3333333333333333, \"interactionType\": 1, \"questionType\": 1, \"questionId\": \"2_ReviewData\", \"learnToolsVersion\": \"0.3.4\", \"failureMessage\": \"\", \"exceptionClass\": \"\", \"trace\": \"\"}}, \"*\")"
      ],
      "text/plain": [
       "<IPython.core.display.Javascript object>"
      ]
     },
     "metadata": {},
     "output_type": "display_data"
    },
    {
     "data": {
      "text/markdown": [
       "<span style=\"color:#33cc33\">Correct</span>"
      ],
      "text/plain": [
       "Correct"
      ]
     },
     "metadata": {},
     "output_type": "display_data"
    }
   ],
   "source": [
    "# Fill in the line below: How many visitors did the Chinese American Museum \n",
    "# receive in July 2018?\n",
    "ca_museum_jul18 = 2620\n",
    "\n",
    "# Fill in the line below: In October 2018, how many more visitors did Avila \n",
    "# Adobe receive than the Firehouse Museum?\n",
    "avila_oct18 = 14658\n",
    "\n",
    "# Check your answers\n",
    "step_2.check()"
   ]
  },
  {
   "cell_type": "code",
   "execution_count": 7,
   "id": "c5726fe7",
   "metadata": {
    "execution": {
     "iopub.execute_input": "2021-08-13T17:41:08.980676Z",
     "iopub.status.busy": "2021-08-13T17:41:08.980041Z",
     "iopub.status.idle": "2021-08-13T17:41:08.983621Z",
     "shell.execute_reply": "2021-08-13T17:41:08.983051Z",
     "shell.execute_reply.started": "2021-08-13T17:30:23.280879Z"
    },
    "papermill": {
     "duration": 0.028555,
     "end_time": "2021-08-13T17:41:08.983761",
     "exception": false,
     "start_time": "2021-08-13T17:41:08.955206",
     "status": "completed"
    },
    "tags": []
   },
   "outputs": [],
   "source": [
    "# Lines below will give you a hint or solution code\n",
    "#step_2.hint()\n",
    "#step_2.solution()"
   ]
  },
  {
   "cell_type": "markdown",
   "id": "17a12fc6",
   "metadata": {
    "papermill": {
     "duration": 0.019934,
     "end_time": "2021-08-13T17:41:09.024150",
     "exception": false,
     "start_time": "2021-08-13T17:41:09.004216",
     "status": "completed"
    },
    "tags": []
   },
   "source": [
    "## Step 3: Convince the museum board \n",
    "\n",
    "The Firehouse Museum claims they ran an event in 2014 that brought an incredible number of visitors, and that they should get extra budget to run a similar event again.  The other museums think these types of events aren't that important, and budgets should be split purely based on recent visitors on an average day.  \n",
    "\n",
    "To show the museum board how the event compared to regular traffic at each museum, create a line chart that shows how the number of visitors to each museum evolved over time.  Your figure should have four lines (one for each museum).\n",
    "\n",
    "> **(Optional) Note**: If you have some prior experience with plotting figures in Python, you might be familiar with the `plt.show()` command.  If you decide to use this command, please place it **after** the line of code that checks your answer (in this case, place it after `step_3.check()` below) -- otherwise, the checking code will return an error!"
   ]
  },
  {
   "cell_type": "code",
   "execution_count": 8,
   "id": "9e5f7837",
   "metadata": {
    "execution": {
     "iopub.execute_input": "2021-08-13T17:41:09.074436Z",
     "iopub.status.busy": "2021-08-13T17:41:09.073411Z",
     "iopub.status.idle": "2021-08-13T17:41:09.516338Z",
     "shell.execute_reply": "2021-08-13T17:41:09.516873Z",
     "shell.execute_reply.started": "2021-08-13T17:35:25.238910Z"
    },
    "papermill": {
     "duration": 0.471782,
     "end_time": "2021-08-13T17:41:09.517046",
     "exception": false,
     "start_time": "2021-08-13T17:41:09.045264",
     "status": "completed"
    },
    "tags": []
   },
   "outputs": [
    {
     "data": {
      "application/javascript": [
       "parent.postMessage({\"jupyterEvent\": \"custom.exercise_interaction\", \"data\": {\"outcomeType\": 1, \"valueTowardsCompletion\": 0.3333333333333333, \"interactionType\": 1, \"questionType\": 2, \"questionId\": \"3_PlotAll\", \"learnToolsVersion\": \"0.3.4\", \"failureMessage\": \"\", \"exceptionClass\": \"\", \"trace\": \"\"}}, \"*\")"
      ],
      "text/plain": [
       "<IPython.core.display.Javascript object>"
      ]
     },
     "metadata": {},
     "output_type": "display_data"
    },
    {
     "data": {
      "text/markdown": [
       "<span style=\"color:#33cc33\">Correct</span>"
      ],
      "text/plain": [
       "Correct"
      ]
     },
     "metadata": {},
     "output_type": "display_data"
    },
    {
     "data": {
      "image/png": "[encoded data removed]",
      "text/plain": [
       "<Figure size 1008x432 with 1 Axes>"
      ]
     },
     "metadata": {
      "needs_background": "light"
     },
     "output_type": "display_data"
    }
   ],
   "source": [
    "# Line chart showing the number of visitors to each museum over time\n",
    "# Your code here\n",
    "plt.figure(figsize=(14,6))\n",
    "sns.lineplot(data = museum_data)\n",
    "plt.title(\"Monthly visitors to the museum\")           \n",
    "\n",
    "# Check your answer\n",
    "step_3.check()"
   ]
  },
  {
   "cell_type": "code",
   "execution_count": 9,
   "id": "2e037d7d",
   "metadata": {
    "execution": {
     "iopub.execute_input": "2021-08-13T17:41:09.567226Z",
     "iopub.status.busy": "2021-08-13T17:41:09.566248Z",
     "iopub.status.idle": "2021-08-13T17:41:09.569969Z",
     "shell.execute_reply": "2021-08-13T17:41:09.570469Z",
     "shell.execute_reply.started": "2021-08-13T17:35:34.560681Z"
    },
    "papermill": {
     "duration": 0.030219,
     "end_time": "2021-08-13T17:41:09.570652",
     "exception": false,
     "start_time": "2021-08-13T17:41:09.540433",
     "status": "completed"
    },
    "tags": []
   },
   "outputs": [],
   "source": [
    "# Lines below will give you a hint or solution code\n",
    "#step_3.hint()\n",
    "#step_3.solution_plot()"
   ]
  },
  {
   "cell_type": "markdown",
   "id": "5fc70d48",
   "metadata": {
    "papermill": {
     "duration": 0.023218,
     "end_time": "2021-08-13T17:41:09.617546",
     "exception": false,
     "start_time": "2021-08-13T17:41:09.594328",
     "status": "completed"
    },
    "tags": []
   },
   "source": [
    "## Step 4: Assess seasonality\n",
    "\n",
    "When meeting with the employees at Avila Adobe, you hear that one major pain point is that the number of museum visitors varies greatly with the seasons, with low seasons (when the employees are perfectly staffed and happy) and also high seasons (when the employees are understaffed and stressed).  You realize that if you can predict these high and low seasons, you can plan ahead to hire some additional seasonal employees to help out with the extra work.\n",
    "\n",
    "#### Part A\n",
    "Create a line chart that shows how the number of visitors to Avila Adobe has evolved over time.  (_If your code returns an error, the first thing that you should check is that you've spelled the name of the column correctly!  You must write the name of the column exactly as it appears in the dataset._)"
   ]
  },
  {
   "cell_type": "code",
   "execution_count": 10,
   "id": "01bc5421",
   "metadata": {
    "execution": {
     "iopub.execute_input": "2021-08-13T17:41:09.667430Z",
     "iopub.status.busy": "2021-08-13T17:41:09.666443Z",
     "iopub.status.idle": "2021-08-13T17:41:09.917652Z",
     "shell.execute_reply": "2021-08-13T17:41:09.916997Z",
     "shell.execute_reply.started": "2021-08-13T17:39:35.463661Z"
    },
    "papermill": {
     "duration": 0.277219,
     "end_time": "2021-08-13T17:41:09.917793",
     "exception": false,
     "start_time": "2021-08-13T17:41:09.640574",
     "status": "completed"
    },
    "tags": []
   },
   "outputs": [
    {
     "name": "stdout",
     "output_type": "stream",
     "text": [
      "Thank you for creating a line chart!  To see how your code compares to the official solution, please use the code cell below.\n"
     ]
    },
    {
     "data": {
      "application/javascript": [
       "parent.postMessage({\"jupyterEvent\": \"custom.exercise_interaction\", \"data\": {\"outcomeType\": 1, \"valueTowardsCompletion\": 0.3333333333333333, \"interactionType\": 1, \"questionType\": 2, \"questionId\": \"4.1_PlotAvila\", \"learnToolsVersion\": \"0.3.4\", \"failureMessage\": \"\", \"exceptionClass\": \"\", \"trace\": \"\"}}, \"*\")"
      ],
      "text/plain": [
       "<IPython.core.display.Javascript object>"
      ]
     },
     "metadata": {},
     "output_type": "display_data"
    },
    {
     "data": {
      "text/markdown": [
       "<span style=\"color:#33cc33\">Correct</span>"
      ],
      "text/plain": [
       "Correct"
      ]
     },
     "metadata": {},
     "output_type": "display_data"
    },
    {
     "data": {
      "image/png": "[encoded data removed]",
      "text/plain": [
       "<Figure size 1008x432 with 1 Axes>"
      ]
     },
     "metadata": {
      "needs_background": "light"
     },
     "output_type": "display_data"
    }
   ],
   "source": [
    "# Line plot showing the number of visitors to Avila Adobe over time\n",
    "____ # Your code here\n",
    "plt.figure(figsize=(14,6))\n",
    "sns.lineplot(data=museum_data[\"Avila Adobe\"], label = 'Avila Adobe')\n",
    "plt.title(\"Line chart of Avila Adobe\")\n",
    "plt.xlabel('Date')\n",
    "# Check your answer\n",
    "step_4.a.check()"
   ]
  },
  {
   "cell_type": "code",
   "execution_count": 11,
   "id": "3f82ca94",
   "metadata": {
    "execution": {
     "iopub.execute_input": "2021-08-13T17:41:09.976818Z",
     "iopub.status.busy": "2021-08-13T17:41:09.976028Z",
     "iopub.status.idle": "2021-08-13T17:41:09.979070Z",
     "shell.execute_reply": "2021-08-13T17:41:09.978431Z",
     "shell.execute_reply.started": "2021-08-13T17:39:47.121704Z"
    },
    "papermill": {
     "duration": 0.033579,
     "end_time": "2021-08-13T17:41:09.979238",
     "exception": false,
     "start_time": "2021-08-13T17:41:09.945659",
     "status": "completed"
    },
    "tags": []
   },
   "outputs": [],
   "source": [
    "# Lines below will give you a hint or solution code\n",
    "#step_4.a.hint()\n",
    "#step_4.a.solution_plot()"
   ]
  },
  {
   "cell_type": "markdown",
   "id": "cb101872",
   "metadata": {
    "papermill": {
     "duration": 0.027714,
     "end_time": "2021-08-13T17:41:10.034425",
     "exception": false,
     "start_time": "2021-08-13T17:41:10.006711",
     "status": "completed"
    },
    "tags": []
   },
   "source": [
    "#### Part B\n",
    "\n",
    "Does Avila Adobe get more visitors:\n",
    "- in September-February (in LA, the fall and winter months), or \n",
    "- in March-August (in LA, the spring and summer)?  \n",
    "\n",
    "Using this information, when should the museum staff additional seasonal employees?"
   ]
  },
  {
   "cell_type": "code",
   "execution_count": 12,
   "id": "c2cce3f7",
   "metadata": {
    "execution": {
     "iopub.execute_input": "2021-08-13T17:41:10.095602Z",
     "iopub.status.busy": "2021-08-13T17:41:10.094928Z",
     "iopub.status.idle": "2021-08-13T17:41:10.097843Z",
     "shell.execute_reply": "2021-08-13T17:41:10.097355Z"
    },
    "papermill": {
     "duration": 0.036044,
     "end_time": "2021-08-13T17:41:10.098082",
     "exception": false,
     "start_time": "2021-08-13T17:41:10.062038",
     "status": "completed"
    },
    "tags": []
   },
   "outputs": [],
   "source": [
    "#step_4.b.hint()"
   ]
  },
  {
   "cell_type": "code",
   "execution_count": 13,
   "id": "6c08a21a",
   "metadata": {
    "execution": {
     "iopub.execute_input": "2021-08-13T17:41:10.159200Z",
     "iopub.status.busy": "2021-08-13T17:41:10.158204Z",
     "iopub.status.idle": "2021-08-13T17:41:10.164338Z",
     "shell.execute_reply": "2021-08-13T17:41:10.165000Z",
     "shell.execute_reply.started": "2021-08-13T17:40:38.068931Z"
    },
    "papermill": {
     "duration": 0.039247,
     "end_time": "2021-08-13T17:41:10.165203",
     "exception": false,
     "start_time": "2021-08-13T17:41:10.125956",
     "status": "completed"
    },
    "tags": []
   },
   "outputs": [
    {
     "data": {
      "application/javascript": [
       "parent.postMessage({\"jupyterEvent\": \"custom.exercise_interaction\", \"data\": {\"interactionType\": 3, \"questionType\": 4, \"questionId\": \"4.2_ThinkAvila\", \"learnToolsVersion\": \"0.3.4\", \"valueTowardsCompletion\": 0.0, \"failureMessage\": \"\", \"exceptionClass\": \"\", \"trace\": \"\", \"outcomeType\": 4}}, \"*\")"
      ],
      "text/plain": [
       "<IPython.core.display.Javascript object>"
      ]
     },
     "metadata": {},
     "output_type": "display_data"
    },
    {
     "data": {
      "text/markdown": [
       "<span style=\"color:#33cc99\">Solution:</span> The line chart generally dips to relatively low values around the early part of each year (in December and January), and reaches its highest values in the middle of the year (especially around May and June).  Thus, Avila Adobe usually gets more visitors in March-August (or the spring and summer months).  With this in mind, Avila Adobe could definitely benefit from hiring more seasonal employees to help with the extra work in March-August (the spring and summer)!"
      ],
      "text/plain": [
       "Solution: The line chart generally dips to relatively low values around the early part of each year (in December and January), and reaches its highest values in the middle of the year (especially around May and June).  Thus, Avila Adobe usually gets more visitors in March-August (or the spring and summer months).  With this in mind, Avila Adobe could definitely benefit from hiring more seasonal employees to help with the extra work in March-August (the spring and summer)!"
      ]
     },
     "metadata": {},
     "output_type": "display_data"
    }
   ],
   "source": [
    "# Check your answer (Run this code cell to receive credit!)\n",
    "step_4.b.solution()"
   ]
  },
  {
   "cell_type": "markdown",
   "id": "5a0c025e",
   "metadata": {
    "papermill": {
     "duration": 0.028407,
     "end_time": "2021-08-13T17:41:10.221441",
     "exception": false,
     "start_time": "2021-08-13T17:41:10.193034",
     "status": "completed"
    },
    "tags": []
   },
   "source": [
    "# Keep going\n",
    "\n",
    "Move on to learn about **[bar charts and heatmaps](https://www.kaggle.com/alexisbcook/bar-charts-and-heatmaps)** with a new dataset!"
   ]
  },
  {
   "cell_type": "markdown",
   "id": "61b60453",
   "metadata": {
    "papermill": {
     "duration": 0.02731,
     "end_time": "2021-08-13T17:41:10.280183",
     "exception": false,
     "start_time": "2021-08-13T17:41:10.252873",
     "status": "completed"
    },
    "tags": []
   },
   "source": [
    "---\n",
    "\n",
    "\n",
    "\n",
    "\n",
    "*Have questions or comments? Visit the [Learn Discussion forum](https://www.kaggle.com/learn-forum/161291) to chat with other Learners.*"
   ]
  }
 ],
 "metadata": {
  "kernelspec": {
   "display_name": "Python 3",
   "language": "python",
   "name": "python3"
  },
  "language_info": {
   "codemirror_mode": {
    "name": "ipython",
    "version": 3
   },
   "file_extension": ".py",
   "mimetype": "text/x-python",
   "name": "python",
   "nbconvert_exporter": "python",
   "pygments_lexer": "ipython3",
   "version": "3.7.10"
  },
  "papermill": {
   "default_parameters": {},
   "duration": 12.718515,
   "end_time": "2021-08-13T17:41:11.020745",
   "environment_variables": {},
   "exception": null,
   "input_path": "__notebook__.ipynb",
   "output_path": "__notebook__.ipynb",
   "parameters": {},
   "start_time": "2021-08-13T17:40:58.302230",
   "version": "2.3.3"
  }
 },
 "nbformat": 4,
 "nbformat_minor": 5
}
